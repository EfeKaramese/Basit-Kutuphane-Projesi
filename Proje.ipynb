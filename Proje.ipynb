{
 "cells": [
  {
   "cell_type": "code",
   "execution_count": null,
   "id": "5e3e22fe",
   "metadata": {},
   "outputs": [
    {
     "name": "stdout",
     "output_type": "stream",
     "text": [
      "*** MENU ***\n",
      "1) List Books\n",
      "2) Add Book\n",
      "3) Remove Book\n",
      "q) Quit\n",
      "Enter your choice (1-4):2\n",
      "Enter the book name: harry potter\n",
      "Enter the author: jk rowling\n",
      "Enter the release date: 1995\n",
      "Enter the number of pages: 1500\n",
      "*** MENU ***\n",
      "1) List Books\n",
      "2) Add Book\n",
      "3) Remove Book\n",
      "q) Quit\n",
      "Enter your choice (1-4):1\n",
      "harry potter,jk rowling\n",
      "*** MENU ***\n",
      "1) List Books\n",
      "2) Add Book\n",
      "3) Remove Book\n",
      "q) Quit\n"
     ]
    }
   ],
   "source": [
    "\n",
    "class Library:\n",
    "    def __init__(self,file_name,mode):\n",
    "        self.file_name=file_name\n",
    "        self.mode=mode\n",
    "        self.file=open(self.file_name,self.mode)\n",
    "    def __del__(self):\n",
    "        self.file.close()\n",
    "    def list_books(self):\n",
    "        self.file.seek(0)\n",
    "        for i in self.file:\n",
    "            j=i.split(\",\")\n",
    "            print(f\"{j[0]},{j[1]}\")\n",
    "    def add_book(self,title,author,release_date,pages):\n",
    "        self.file.write(f\"{title},{author},{release_date},{pages}\")\n",
    "    def remove_book(self,book):\n",
    "        lines = self.file.readlines()\n",
    "        self.file.close()\n",
    "        with open(self.file_name, \"w\") as new_file:\n",
    "            for line in lines:\n",
    "                if book not in line:\n",
    "                    new_file.write(line)\n",
    "        self.file = open(self.file_name, \"a+\")\n",
    "\n",
    "while True:\n",
    "    print(\"*** MENU ***\")\n",
    "    print(\"1) List Books\")\n",
    "    print(\"2) Add Book\")\n",
    "    print(\"3) Remove Book\")\n",
    "    print(\"q) Quit\")\n",
    "    choice=input(\"Enter your choice (1-4):\")\n",
    "    lib=Library(\"books.txt\",\"a+\")\n",
    "    if choice==\"1\":\n",
    "        lib.list_books()\n",
    "    if choice==\"2\":\n",
    "        title=input(\"Enter the book name: \")\n",
    "        author=input(\"Enter the author: \")\n",
    "        date=input(\"Enter the release date: \")\n",
    "        pages=input(\"Enter the number of pages: \")\n",
    "        lib.add_book(title,author,date,pages)\n",
    "    if choice==\"3\":\n",
    "        delete_book=input(\"Name of the deleted book: \")\n",
    "        lib.remove_book(delete_book)\n",
    "    if choice==\"q\":\n",
    "        break\n",
    "        "
   ]
  },
  {
   "cell_type": "code",
   "execution_count": null,
   "id": "9ac7e24e",
   "metadata": {},
   "outputs": [],
   "source": []
  }
 ],
 "metadata": {
  "kernelspec": {
   "display_name": "Python 3 (ipykernel)",
   "language": "python",
   "name": "python3"
  },
  "language_info": {
   "codemirror_mode": {
    "name": "ipython",
    "version": 3
   },
   "file_extension": ".py",
   "mimetype": "text/x-python",
   "name": "python",
   "nbconvert_exporter": "python",
   "pygments_lexer": "ipython3",
   "version": "3.9.13"
  }
 },
 "nbformat": 4,
 "nbformat_minor": 5
}
